{
 "cells": [
  {
   "cell_type": "markdown",
   "metadata": {},
   "source": [
    "#  **Microsoft Movie Studio - Technical Summary**\n",
    "Authors: Stu Murphy and Nicole Bills\n",
    "\n",
    "Date: 10/23/19\n",
    "\n",
    "Data source: The Numbers (Movie budgets and worldwide gross) & IMDB (genres)"
   ]
  },
  {
   "cell_type": "code",
   "execution_count": 49,
   "metadata": {},
   "outputs": [],
   "source": [
    "import numpy as np\n",
    "import pandas as pd\n",
    "import matplotlib.pyplot as plt\n",
    "import seaborn as sns\n",
    "from functions import *"
   ]
  },
  {
   "cell_type": "code",
   "execution_count": 28,
   "metadata": {},
   "outputs": [],
   "source": [
    "# import raw data files\n",
    "df_budgets = pd.read_csv('data/tn.movie_budgets.csv.gz')\n",
    "df_basics = pd.read_csv('data/imdb.title.basics.csv.gz')"
   ]
  },
  {
   "cell_type": "code",
   "execution_count": null,
   "metadata": {},
   "outputs": [],
   "source": []
  },
  {
   "cell_type": "markdown",
   "metadata": {},
   "source": [
    "# Report - Opportunity Analysis"
   ]
  },
  {
   "cell_type": "markdown",
   "metadata": {},
   "source": [
    "Goal:  develop a strategy for Microsoft to create a successful movie studio based on return on investment (ROI)\n",
    "\n",
    "Results:    Microsoft should focus its efforts on [this kind of movie]\n",
    "- The most important features to predict movie success based on [the criteria defined above] are 1.) 2.) 3.)"
   ]
  },
  {
   "cell_type": "code",
   "execution_count": 29,
   "metadata": {},
   "outputs": [],
   "source": [
    "# possible visualization: heat map of success by feature"
   ]
  },
  {
   "cell_type": "markdown",
   "metadata": {},
   "source": [
    "### Assumptions\n",
    " - Why we defined success the way we did..."
   ]
  },
  {
   "cell_type": "markdown",
   "metadata": {},
   "source": [
    "### Methodology\n",
    " - Steps to clean data, categorize data, etc."
   ]
  },
  {
   "cell_type": "markdown",
   "metadata": {},
   "source": [
    "### Data Preparation"
   ]
  },
  {
   "cell_type": "code",
   "execution_count": 30,
   "metadata": {},
   "outputs": [],
   "source": [
    "# Start with 'budgets' dataset. Transform dollar amounts (str) into integers:\n",
    "# Step 1. Strip out $ signs.\n",
    "df_budgets = df_budgets.applymap(lambda x: str(x).replace('$', '')) \n"
   ]
  },
  {
   "cell_type": "code",
   "execution_count": 31,
   "metadata": {},
   "outputs": [],
   "source": [
    "# Step 2. Strip away ','.\n",
    "df_budgets['worldwide_gross'] = df_budgets['worldwide_gross'].map(lambda x: str(x).replace(',', '_'))\n",
    "df_budgets['domestic_gross'] = df_budgets['domestic_gross'].map(lambda x: str(x).replace(',', '_'))\n",
    "df_budgets['production_budget'] = df_budgets['production_budget'].map(lambda x: str(x).replace(',', '_'))\n"
   ]
  },
  {
   "cell_type": "code",
   "execution_count": 32,
   "metadata": {},
   "outputs": [],
   "source": [
    "# Step 3. Transform string values into integers.\n",
    "df_budgets['worldwide_gross'] = df_budgets['worldwide_gross'].astype(int)\n",
    "df_budgets['domestic_gross'] = df_budgets['domestic_gross'].astype(int)\n",
    "df_budgets['production_budget'] = df_budgets['production_budget'].astype(int)\n"
   ]
  },
  {
   "cell_type": "code",
   "execution_count": 33,
   "metadata": {},
   "outputs": [],
   "source": [
    "# Create a new variable 'worldwide_roi' by calculating ROI.\n",
    "df_budgets['worldwide_roi'] = (df_budgets['worldwide_gross'] / df_budgets['production_budget']) *100\n"
   ]
  },
  {
   "cell_type": "code",
   "execution_count": 54,
   "metadata": {},
   "outputs": [
    {
     "data": {
      "image/png": "[encoded data removed]",
      "text/plain": [
       "<Figure size 1440x360 with 1 Axes>"
      ]
     },
     "metadata": {
      "needs_background": "light"
     },
     "output_type": "display_data"
    }
   ],
   "source": [
    "# Understanding our data ROI data distribution - identify skewness & potential outliers.\n",
    "df_budgets['worldwide_roi'].describe()\n",
    "plt.figure(figsize=(20,5));\n",
    "sns.boxplot(data=df_budgets['worldwide_roi'], orient='h');\n"
   ]
  },
  {
   "cell_type": "code",
   "execution_count": 56,
   "metadata": {},
   "outputs": [
    {
     "data": {
      "image/png": "[encoded data removed]",
      "text/plain": [
       "<Figure size 1440x360 with 1 Axes>"
      ]
     },
     "metadata": {
      "needs_background": "light"
     },
     "output_type": "display_data"
    }
   ],
   "source": [
    "# And a distribution plot too...\n",
    "plt.figure(figsize=(20,5));\n",
    "sns.distplot(df_budgets['worldwide_roi']);"
   ]
  },
  {
   "cell_type": "code",
   "execution_count": 57,
   "metadata": {},
   "outputs": [],
   "source": [
    "# Sort dataframe by ROI, starting with highest ROI.\n",
    "df_budgets.sort_values('worldwide_roi', ascending=False, inplace=True)\n"
   ]
  },
  {
   "cell_type": "code",
   "execution_count": 58,
   "metadata": {},
   "outputs": [],
   "source": [
    "# There is one huge outlier that is in a category we can assume our client doesn't want to enter. Drop it.\n",
    "df_budgets.drop(5745, axis=0, inplace=True)\n"
   ]
  },
  {
   "cell_type": "code",
   "execution_count": 59,
   "metadata": {},
   "outputs": [],
   "source": [
    "# Reset our index, because we have removed an outlier and sorted our data.\n",
    "df_budgets.reset_index(inplace=True)\n",
    "df_budgets.drop('index', axis=1, inplace=True)\n"
   ]
  },
  {
   "cell_type": "code",
   "execution_count": 61,
   "metadata": {},
   "outputs": [],
   "source": [
    "# Create a new variable 'roi_category' to classify levels of ROI (based on quintiles).\n",
    "names = ['low', 'somewhat low', 'moderate', 'somewhat high', 'high']\n",
    "pd.qcut(df_budgets['worldwide_roi'], 5, labels=names)\n",
    "df_budgets['roi_category'] = pd.qcut(df_budgets['worldwide_roi'], 5, labels=names)\n"
   ]
  },
  {
   "cell_type": "code",
   "execution_count": 62,
   "metadata": {},
   "outputs": [],
   "source": [
    "# Create a new variable 'movie_year' within both 'budgets' and 'basics' datasets which we can use to merge.\n",
    "df_budgets['movie_year'] = df_budgets['movie']+\" (\" + df_budgets['release_date'].map(lambda x: x[-4: len(x)])+\")\"\n",
    "df_basics['movie_year'] = df_basics['primary_title']+\" (\" + df_basics['start_year'].astype(str)+\")\""
   ]
  },
  {
   "cell_type": "code",
   "execution_count": 43,
   "metadata": {},
   "outputs": [],
   "source": [
    "# Merge (left) 'basics' data to our 'budgets' dataset on 'movie_year' that we created in the both datasets.\n",
    "df_merged_data = df_budgets2.merge(df_basics, how='left', on='movie_year')\n"
   ]
  },
  {
   "cell_type": "code",
   "execution_count": 44,
   "metadata": {},
   "outputs": [
    {
     "name": "stdout",
     "output_type": "stream",
     "text": [
      "<class 'pandas.core.frame.DataFrame'>\n",
      "Int64Index: 5844 entries, 0 to 5843\n",
      "Data columns (total 15 columns):\n",
      "id                   5844 non-null object\n",
      "release_date         5844 non-null object\n",
      "movie                5844 non-null object\n",
      "production_budget    5844 non-null int64\n",
      "domestic_gross       5844 non-null int64\n",
      "worldwide_gross      5844 non-null int64\n",
      "worldwide_roi        5844 non-null float64\n",
      "roi_category         5844 non-null category\n",
      "movie_year           5844 non-null object\n",
      "tconst               1545 non-null object\n",
      "primary_title        1545 non-null object\n",
      "original_title       1545 non-null object\n",
      "start_year           1545 non-null float64\n",
      "runtime_minutes      1519 non-null float64\n",
      "genres               1539 non-null object\n",
      "dtypes: category(1), float64(3), int64(3), object(8)\n",
      "memory usage: 690.7+ KB\n"
     ]
    }
   ],
   "source": [
    "# Check for missing values & NaN.\n",
    "df_merged_data.info()\n"
   ]
  },
  {
   "cell_type": "code",
   "execution_count": 64,
   "metadata": {},
   "outputs": [
    {
     "data": {
      "text/html": [
       "<div>\n",
       "<style scoped>\n",
       "    .dataframe tbody tr th:only-of-type {\n",
       "        vertical-align: middle;\n",
       "    }\n",
       "\n",
       "    .dataframe tbody tr th {\n",
       "        vertical-align: top;\n",
       "    }\n",
       "\n",
       "    .dataframe thead th {\n",
       "        text-align: right;\n",
       "    }\n",
       "</style>\n",
       "<table border=\"1\" class=\"dataframe\">\n",
       "  <thead>\n",
       "    <tr style=\"text-align: right;\">\n",
       "      <th></th>\n",
       "      <th>id</th>\n",
       "      <th>release_date</th>\n",
       "      <th>movie</th>\n",
       "      <th>production_budget</th>\n",
       "      <th>domestic_gross</th>\n",
       "      <th>worldwide_gross</th>\n",
       "      <th>worldwide_roi</th>\n",
       "      <th>roi_category</th>\n",
       "      <th>movie_year</th>\n",
       "      <th>tconst</th>\n",
       "      <th>primary_title</th>\n",
       "      <th>original_title</th>\n",
       "      <th>start_year</th>\n",
       "      <th>runtime_minutes</th>\n",
       "      <th>genres</th>\n",
       "    </tr>\n",
       "  </thead>\n",
       "  <tbody>\n",
       "    <tr>\n",
       "      <th>2</th>\n",
       "      <td>80</td>\n",
       "      <td>Jul 10, 2015</td>\n",
       "      <td>The Gallows</td>\n",
       "      <td>100000</td>\n",
       "      <td>22764410</td>\n",
       "      <td>41656474</td>\n",
       "      <td>41656.474000</td>\n",
       "      <td>high</td>\n",
       "      <td>The Gallows (2015)</td>\n",
       "      <td>tt2309260</td>\n",
       "      <td>The Gallows</td>\n",
       "      <td>The Gallows</td>\n",
       "      <td>2015.0</td>\n",
       "      <td>81.0</td>\n",
       "      <td>Horror,Mystery,Thriller</td>\n",
       "    </tr>\n",
       "    <tr>\n",
       "      <th>25</th>\n",
       "      <td>12</td>\n",
       "      <td>Jan 6, 2012</td>\n",
       "      <td>The Devil Inside</td>\n",
       "      <td>1000000</td>\n",
       "      <td>53262945</td>\n",
       "      <td>101759490</td>\n",
       "      <td>10175.949000</td>\n",
       "      <td>high</td>\n",
       "      <td>The Devil Inside (2012)</td>\n",
       "      <td>tt1560985</td>\n",
       "      <td>The Devil Inside</td>\n",
       "      <td>The Devil Inside</td>\n",
       "      <td>2012.0</td>\n",
       "      <td>83.0</td>\n",
       "      <td>Horror</td>\n",
       "    </tr>\n",
       "    <tr>\n",
       "      <th>51</th>\n",
       "      <td>65</td>\n",
       "      <td>Oct 20, 2010</td>\n",
       "      <td>Paranormal Activity 2</td>\n",
       "      <td>3000000</td>\n",
       "      <td>84752907</td>\n",
       "      <td>177512032</td>\n",
       "      <td>5917.067733</td>\n",
       "      <td>high</td>\n",
       "      <td>Paranormal Activity 2 (2010)</td>\n",
       "      <td>tt1536044</td>\n",
       "      <td>Paranormal Activity 2</td>\n",
       "      <td>Paranormal Activity 2</td>\n",
       "      <td>2010.0</td>\n",
       "      <td>91.0</td>\n",
       "      <td>Horror</td>\n",
       "    </tr>\n",
       "    <tr>\n",
       "      <th>59</th>\n",
       "      <td>49</td>\n",
       "      <td>Feb 24, 2017</td>\n",
       "      <td>Get Out</td>\n",
       "      <td>5000000</td>\n",
       "      <td>176040665</td>\n",
       "      <td>255367951</td>\n",
       "      <td>5107.359020</td>\n",
       "      <td>high</td>\n",
       "      <td>Get Out (2017)</td>\n",
       "      <td>tt5052448</td>\n",
       "      <td>Get Out</td>\n",
       "      <td>Get Out</td>\n",
       "      <td>2017.0</td>\n",
       "      <td>104.0</td>\n",
       "      <td>Horror,Mystery,Thriller</td>\n",
       "    </tr>\n",
       "    <tr>\n",
       "      <th>65</th>\n",
       "      <td>64</td>\n",
       "      <td>Oct 21, 2016</td>\n",
       "      <td>Moonlight</td>\n",
       "      <td>1500000</td>\n",
       "      <td>27854931</td>\n",
       "      <td>65245512</td>\n",
       "      <td>4349.700800</td>\n",
       "      <td>high</td>\n",
       "      <td>Moonlight (2016)</td>\n",
       "      <td>tt4975722</td>\n",
       "      <td>Moonlight</td>\n",
       "      <td>Moonlight</td>\n",
       "      <td>2016.0</td>\n",
       "      <td>111.0</td>\n",
       "      <td>Drama</td>\n",
       "    </tr>\n",
       "  </tbody>\n",
       "</table>\n",
       "</div>"
      ],
      "text/plain": [
       "    id  release_date                  movie  production_budget  \\\n",
       "2   80  Jul 10, 2015            The Gallows             100000   \n",
       "25  12   Jan 6, 2012       The Devil Inside            1000000   \n",
       "51  65  Oct 20, 2010  Paranormal Activity 2            3000000   \n",
       "59  49  Feb 24, 2017                Get Out            5000000   \n",
       "65  64  Oct 21, 2016              Moonlight            1500000   \n",
       "\n",
       "    domestic_gross  worldwide_gross  worldwide_roi roi_category  \\\n",
       "2         22764410         41656474   41656.474000         high   \n",
       "25        53262945        101759490   10175.949000         high   \n",
       "51        84752907        177512032    5917.067733         high   \n",
       "59       176040665        255367951    5107.359020         high   \n",
       "65        27854931         65245512    4349.700800         high   \n",
       "\n",
       "                      movie_year     tconst          primary_title  \\\n",
       "2             The Gallows (2015)  tt2309260            The Gallows   \n",
       "25       The Devil Inside (2012)  tt1560985       The Devil Inside   \n",
       "51  Paranormal Activity 2 (2010)  tt1536044  Paranormal Activity 2   \n",
       "59                Get Out (2017)  tt5052448                Get Out   \n",
       "65              Moonlight (2016)  tt4975722              Moonlight   \n",
       "\n",
       "           original_title  start_year  runtime_minutes  \\\n",
       "2             The Gallows      2015.0             81.0   \n",
       "25       The Devil Inside      2012.0             83.0   \n",
       "51  Paranormal Activity 2      2010.0             91.0   \n",
       "59                Get Out      2017.0            104.0   \n",
       "65              Moonlight      2016.0            111.0   \n",
       "\n",
       "                     genres  \n",
       "2   Horror,Mystery,Thriller  \n",
       "25                   Horror  \n",
       "51                   Horror  \n",
       "59  Horror,Mystery,Thriller  \n",
       "65                    Drama  "
      ]
     },
     "execution_count": 64,
     "metadata": {},
     "output_type": "execute_result"
    }
   ],
   "source": [
    "# Create a new dataset, dropping all the rows with misssing values.\n",
    "df_fulldata = df_merged_data.loc[~df_merged_data.isna().any(axis=1)]\n",
    "df_fulldata.head()\n"
   ]
  },
  {
   "cell_type": "code",
   "execution_count": 65,
   "metadata": {},
   "outputs": [
    {
     "name": "stdout",
     "output_type": "stream",
     "text": [
      "<class 'pandas.core.frame.DataFrame'>\n",
      "Int64Index: 1517 entries, 2 to 5842\n",
      "Data columns (total 15 columns):\n",
      "id                   1517 non-null object\n",
      "release_date         1517 non-null object\n",
      "movie                1517 non-null object\n",
      "production_budget    1517 non-null int64\n",
      "domestic_gross       1517 non-null int64\n",
      "worldwide_gross      1517 non-null int64\n",
      "worldwide_roi        1517 non-null float64\n",
      "roi_category         1517 non-null category\n",
      "movie_year           1517 non-null object\n",
      "tconst               1517 non-null object\n",
      "primary_title        1517 non-null object\n",
      "original_title       1517 non-null object\n",
      "start_year           1517 non-null float64\n",
      "runtime_minutes      1517 non-null float64\n",
      "genres               1517 non-null object\n",
      "dtypes: category(1), float64(3), int64(3), object(8)\n",
      "memory usage: 179.5+ KB\n"
     ]
    },
    {
     "data": {
      "text/html": [
       "<div>\n",
       "<style scoped>\n",
       "    .dataframe tbody tr th:only-of-type {\n",
       "        vertical-align: middle;\n",
       "    }\n",
       "\n",
       "    .dataframe tbody tr th {\n",
       "        vertical-align: top;\n",
       "    }\n",
       "\n",
       "    .dataframe thead th {\n",
       "        text-align: right;\n",
       "    }\n",
       "</style>\n",
       "<table border=\"1\" class=\"dataframe\">\n",
       "  <thead>\n",
       "    <tr style=\"text-align: right;\">\n",
       "      <th></th>\n",
       "      <th>production_budget</th>\n",
       "      <th>domestic_gross</th>\n",
       "      <th>worldwide_gross</th>\n",
       "      <th>worldwide_roi</th>\n",
       "      <th>start_year</th>\n",
       "      <th>runtime_minutes</th>\n",
       "    </tr>\n",
       "  </thead>\n",
       "  <tbody>\n",
       "    <tr>\n",
       "      <th>count</th>\n",
       "      <td>1.517000e+03</td>\n",
       "      <td>1.517000e+03</td>\n",
       "      <td>1.517000e+03</td>\n",
       "      <td>1517.000000</td>\n",
       "      <td>1517.000000</td>\n",
       "      <td>1517.000000</td>\n",
       "    </tr>\n",
       "    <tr>\n",
       "      <th>mean</th>\n",
       "      <td>4.458150e+07</td>\n",
       "      <td>5.636836e+07</td>\n",
       "      <td>1.413037e+08</td>\n",
       "      <td>367.577120</td>\n",
       "      <td>2013.858932</td>\n",
       "      <td>106.751483</td>\n",
       "    </tr>\n",
       "    <tr>\n",
       "      <th>std</th>\n",
       "      <td>5.615790e+07</td>\n",
       "      <td>8.479596e+07</td>\n",
       "      <td>2.340826e+08</td>\n",
       "      <td>1199.006065</td>\n",
       "      <td>2.555429</td>\n",
       "      <td>19.114454</td>\n",
       "    </tr>\n",
       "    <tr>\n",
       "      <th>min</th>\n",
       "      <td>1.500000e+04</td>\n",
       "      <td>0.000000e+00</td>\n",
       "      <td>0.000000e+00</td>\n",
       "      <td>0.000000</td>\n",
       "      <td>2010.000000</td>\n",
       "      <td>4.000000</td>\n",
       "    </tr>\n",
       "    <tr>\n",
       "      <th>25%</th>\n",
       "      <td>8.000000e+06</td>\n",
       "      <td>3.047539e+06</td>\n",
       "      <td>8.004221e+06</td>\n",
       "      <td>72.365130</td>\n",
       "      <td>2012.000000</td>\n",
       "      <td>94.000000</td>\n",
       "    </tr>\n",
       "    <tr>\n",
       "      <th>50%</th>\n",
       "      <td>2.250000e+07</td>\n",
       "      <td>2.774096e+07</td>\n",
       "      <td>5.169536e+07</td>\n",
       "      <td>211.655794</td>\n",
       "      <td>2014.000000</td>\n",
       "      <td>105.000000</td>\n",
       "    </tr>\n",
       "    <tr>\n",
       "      <th>75%</th>\n",
       "      <td>5.500000e+07</td>\n",
       "      <td>6.763116e+07</td>\n",
       "      <td>1.589053e+08</td>\n",
       "      <td>397.540927</td>\n",
       "      <td>2016.000000</td>\n",
       "      <td>118.000000</td>\n",
       "    </tr>\n",
       "    <tr>\n",
       "      <th>max</th>\n",
       "      <td>4.106000e+08</td>\n",
       "      <td>7.000596e+08</td>\n",
       "      <td>2.048134e+09</td>\n",
       "      <td>41656.474000</td>\n",
       "      <td>2019.000000</td>\n",
       "      <td>180.000000</td>\n",
       "    </tr>\n",
       "  </tbody>\n",
       "</table>\n",
       "</div>"
      ],
      "text/plain": [
       "       production_budget  domestic_gross  worldwide_gross  worldwide_roi  \\\n",
       "count       1.517000e+03    1.517000e+03     1.517000e+03    1517.000000   \n",
       "mean        4.458150e+07    5.636836e+07     1.413037e+08     367.577120   \n",
       "std         5.615790e+07    8.479596e+07     2.340826e+08    1199.006065   \n",
       "min         1.500000e+04    0.000000e+00     0.000000e+00       0.000000   \n",
       "25%         8.000000e+06    3.047539e+06     8.004221e+06      72.365130   \n",
       "50%         2.250000e+07    2.774096e+07     5.169536e+07     211.655794   \n",
       "75%         5.500000e+07    6.763116e+07     1.589053e+08     397.540927   \n",
       "max         4.106000e+08    7.000596e+08     2.048134e+09   41656.474000   \n",
       "\n",
       "        start_year  runtime_minutes  \n",
       "count  1517.000000      1517.000000  \n",
       "mean   2013.858932       106.751483  \n",
       "std       2.555429        19.114454  \n",
       "min    2010.000000         4.000000  \n",
       "25%    2012.000000        94.000000  \n",
       "50%    2014.000000       105.000000  \n",
       "75%    2016.000000       118.000000  \n",
       "max    2019.000000       180.000000  "
      ]
     },
     "execution_count": 65,
     "metadata": {},
     "output_type": "execute_result"
    }
   ],
   "source": [
    "# Check to see that dataset is complete and ready for analysis.\n",
    "df_fulldata.info()\n",
    "df_fulldata.describe()\n"
   ]
  },
  {
   "cell_type": "code",
   "execution_count": 66,
   "metadata": {},
   "outputs": [],
   "source": [
    "# Resetting index to 'id' column.\n",
    "df_fulldata.set_index(\"id\", inplace=True)\n"
   ]
  },
  {
   "cell_type": "code",
   "execution_count": 67,
   "metadata": {},
   "outputs": [],
   "source": [
    "# Save new dataset as a csv.\n",
    "df_fulldata.to_csv('cleaned_data.csv')\n"
   ]
  },
  {
   "cell_type": "markdown",
   "metadata": {},
   "source": [
    "### Analysis"
   ]
  },
  {
   "cell_type": "code",
   "execution_count": null,
   "metadata": {},
   "outputs": [],
   "source": [
    "# possible visualization: boxplot of degree of success by feature"
   ]
  },
  {
   "cell_type": "code",
   "execution_count": null,
   "metadata": {},
   "outputs": [],
   "source": [
    "# possible visualizations: pairplots showing correlation"
   ]
  },
  {
   "cell_type": "code",
   "execution_count": 11,
   "metadata": {},
   "outputs": [],
   "source": [
    "# possible visualization: bar charts showing most successful and least successful films"
   ]
  },
  {
   "cell_type": "markdown",
   "metadata": {},
   "source": [
    "### Recommendations\n",
    " - text"
   ]
  },
  {
   "cell_type": "markdown",
   "metadata": {},
   "source": [
    "### Areas for Further Analysis\n",
    " - Within target genres, are there key players (i.e. director, producer, screenwriters) to involve in production?"
   ]
  }
 ],
 "metadata": {
  "kernelspec": {
   "display_name": "Python 3",
   "language": "python",
   "name": "python3"
  },
  "language_info": {
   "codemirror_mode": {
    "name": "ipython",
    "version": 3
   },
   "file_extension": ".py",
   "mimetype": "text/x-python",
   "name": "python",
   "nbconvert_exporter": "python",
   "pygments_lexer": "ipython3",
   "version": "3.7.3"
  }
 },
 "nbformat": 4,
 "nbformat_minor": 2
}
