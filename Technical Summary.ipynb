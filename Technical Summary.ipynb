{
 "cells": [
  {
   "cell_type": "markdown",
   "metadata": {},
   "source": [
    "#  **Microsoft Movie Studio - Technical Summary**\n",
    "Authors: Stu Murphy and Nicole Bills\n",
    "\n",
    "Date: 10/23/19\n",
    "\n",
    "Data source: The Numbers (Movie budgets and worldwide gross) & IMDB (genres)"
   ]
  },
  {
   "cell_type": "code",
   "execution_count": 1,
   "metadata": {},
   "outputs": [],
   "source": [
    "import numpy as np\n",
    "import pandas as pd\n",
    "import matplotlib.pyplot as plt\n",
    "import seaborn as sns\n",
    "import warnings\n",
    "warnings.filterwarnings('ignore')\n",
    "from functions import *"
   ]
  },
  {
   "cell_type": "code",
   "execution_count": 2,
   "metadata": {},
   "outputs": [],
   "source": [
    "# import raw data files\n",
    "df_budgets = pd.read_csv('data/tn.movie_budgets.csv.gz')\n",
    "df_basics = pd.read_csv('data/imdb.title.basics.csv.gz')"
   ]
  },
  {
   "cell_type": "markdown",
   "metadata": {},
   "source": [
    "# Report - Opportunity Analysis"
   ]
  },
  {
   "cell_type": "markdown",
   "metadata": {},
   "source": [
    "Goal:  develop a strategy for Microsoft to create a successful movie studio based on return on investment (ROI)\n",
    "\n",
    "Results:    Microsoft should focus its efforts on Animation, Sci-Fi and Adventure (high return, low risk), and consider investing in Mystery and Horror (high return, high risk).  The studio should avoid producing films in the Bigraphy, Drama, and Crime categories."
   ]
  },
  {
   "cell_type": "markdown",
   "metadata": {},
   "source": [
    "### Assumptions\n",
    "Return on investment (ROI) is the best metric for Microsoft to assess to evaluate the success of the new venture. We have chosen to define ROI based on net revenue for the following reasons:\n",
    "1.\t**Valuation**: given that Microsoft is a publicly traded company, the company’s valuation is based off of quarterly earnings (earnings per share) and not profit margin. We also recognize that Microsoft wants their new movie studio to be profitable, therefore using total sales or gross revenue would be meaningless.\n",
    "2.   **Context**: We do not want to assume that Microsoft will be as immediately as profitable as their competitors, when entering a new market. We should assume the company will incur higher production and operational costs due to initial capex and operational inefficiencies.\n",
    "3.   **Perception**: Important at an early stage. Headlines with large box office earnings (not profits) are advantageous when establishing a venture in a new vertical around strong competition."
   ]
  },
  {
   "cell_type": "markdown",
   "metadata": {},
   "source": [
    "### Methodology\n",
    "1.\tFeature Selection\n",
    "    -\tIdentifying net revenue ROI as our target variable and selecting Genre as our subject for exploration\n",
    "2.\tData Cleaning\n",
    "    -\tTransformation of str to int\n",
    "    -\tDrop outliers\n",
    "3.\tFeature Engineering\n",
    "    -\tNew feature creation (ROI)\n",
    "    -\tSort values\n",
    "    -\tReset index\n",
    "    -\tMerge datasets\n",
    "    -\tDrop missing values\n",
    "4.\tExploratory Analysis & Visualization\n",
    "    -\tCentral tendency\n",
    "    -\tDistribution plots\n",
    "    -\tQuintile comparisons"
   ]
  },
  {
   "cell_type": "markdown",
   "metadata": {},
   "source": [
    "### Data Preparation"
   ]
  },
  {
   "cell_type": "markdown",
   "metadata": {},
   "source": [
    "### Analysis"
   ]
  },
  {
   "cell_type": "code",
   "execution_count": 3,
   "metadata": {},
   "outputs": [],
   "source": [
    "df_fulldata = pd.read_csv('movie_data2.csv')"
   ]
  },
  {
   "cell_type": "markdown",
   "metadata": {},
   "source": [
    "#### What genres groupings are associated with the highest median ROI?"
   ]
  },
  {
   "cell_type": "code",
   "execution_count": 4,
   "metadata": {},
   "outputs": [],
   "source": [
    "sort=True"
   ]
  },
  {
   "cell_type": "code",
   "execution_count": 5,
   "metadata": {},
   "outputs": [
    {
     "data": {
      "text/html": [
       "<div>\n",
       "<style scoped>\n",
       "    .dataframe tbody tr th:only-of-type {\n",
       "        vertical-align: middle;\n",
       "    }\n",
       "\n",
       "    .dataframe tbody tr th {\n",
       "        vertical-align: top;\n",
       "    }\n",
       "\n",
       "    .dataframe thead th {\n",
       "        text-align: right;\n",
       "    }\n",
       "</style>\n",
       "<table border=\"1\" class=\"dataframe\">\n",
       "  <thead>\n",
       "    <tr style=\"text-align: right;\">\n",
       "      <th></th>\n",
       "      <th>genre_groupings</th>\n",
       "      <th>median_worldwide_roi</th>\n",
       "      <th>std_worldwide_roi</th>\n",
       "      <th>count_worldwide_roi</th>\n",
       "    </tr>\n",
       "  </thead>\n",
       "  <tbody>\n",
       "    <tr>\n",
       "      <th>0</th>\n",
       "      <td>Horror,Mystery,Thriller</td>\n",
       "      <td>1271.051550</td>\n",
       "      <td>7332.772539</td>\n",
       "      <td>31</td>\n",
       "    </tr>\n",
       "    <tr>\n",
       "      <th>1</th>\n",
       "      <td>Drama,Horror,Mystery</td>\n",
       "      <td>450.073388</td>\n",
       "      <td>882.699736</td>\n",
       "      <td>13</td>\n",
       "    </tr>\n",
       "    <tr>\n",
       "      <th>2</th>\n",
       "      <td>Action,Adventure,Animation</td>\n",
       "      <td>395.228987</td>\n",
       "      <td>171.909120</td>\n",
       "      <td>15</td>\n",
       "    </tr>\n",
       "    <tr>\n",
       "      <th>3</th>\n",
       "      <td>Action,Adventure,Comedy</td>\n",
       "      <td>376.935680</td>\n",
       "      <td>325.323322</td>\n",
       "      <td>22</td>\n",
       "    </tr>\n",
       "    <tr>\n",
       "      <th>4</th>\n",
       "      <td>Action,Sci-Fi,Thriller</td>\n",
       "      <td>364.960432</td>\n",
       "      <td>378.791540</td>\n",
       "      <td>10</td>\n",
       "    </tr>\n",
       "  </tbody>\n",
       "</table>\n",
       "</div>"
      ],
      "text/plain": [
       "              genre_groupings  median_worldwide_roi  std_worldwide_roi  \\\n",
       "0     Horror,Mystery,Thriller           1271.051550        7332.772539   \n",
       "1        Drama,Horror,Mystery            450.073388         882.699736   \n",
       "2  Action,Adventure,Animation            395.228987         171.909120   \n",
       "3     Action,Adventure,Comedy            376.935680         325.323322   \n",
       "4      Action,Sci-Fi,Thriller            364.960432         378.791540   \n",
       "\n",
       "   count_worldwide_roi  \n",
       "0                   31  \n",
       "1                   13  \n",
       "2                   15  \n",
       "3                   22  \n",
       "4                   10  "
      ]
     },
     "execution_count": 5,
     "metadata": {},
     "output_type": "execute_result"
    }
   ],
   "source": [
    "# Set up a table with median revenue by genre grouping, where count of movies in each genre grouping >= 10\n",
    "table1 = pd.pivot_table(df_fulldata, index=['genres'], values ='worldwide_roi', aggfunc=['mean','median','std','count'])\n",
    "table1 = pd.DataFrame(table1)\n",
    "table1.columns = table1.columns.to_series().str.join('_')\n",
    "table1 = pd.DataFrame(table1.sort_values('median_worldwide_roi', ascending=False))\n",
    "table1 = pd.DataFrame(table1.loc[table1['count_worldwide_roi']>9].reset_index())\n",
    "table1.columns = ['genre_groupings', 'mean_worldwide_roi', 'median_worldwide_roi',\n",
    "       'std_worldwide_roi', 'count_worldwide_roi']\n",
    "table1[['genre_groupings','median_worldwide_roi','std_worldwide_roi','count_worldwide_roi']].head()\n"
   ]
  },
  {
   "cell_type": "code",
   "execution_count": 47,
   "metadata": {},
   "outputs": [],
   "source": [
    "# Create a pivot table by ROI category and Genre, and add additional ROI classifications to enable sort\n",
    "piv1 = pd.pivot_table(df_fulldata, index=['roi_category','genres'], values ='id', aggfunc='count')\n",
    "piv1 = piv1.reset_index()\n",
    "piv1.columns = ['roi_category', 'genres', 'count']\n",
    "piv1['roi_category2'] = piv1['roi_category'].apply(lambda x: {'high':'high', 'somewhat high':'other', 'moderate':'other', 'somewhat low':'other', 'low':'other'}[x])\n",
    "piv1['roi_category3'] = piv1['roi_category'].apply(lambda x: {'high':'high', 'somewhat high':np.nan, 'moderate':np.nan, 'somewhat low':np.nan, 'low':'low'}[x])\n"
   ]
  },
  {
   "cell_type": "code",
   "execution_count": 51,
   "metadata": {},
   "outputs": [],
   "source": [
    "# Create a table to visualize with seaborn\n",
    "viz0 = piv1.loc[(piv1.genres == 'Horror,Mystery,Thriller') \\\n",
    "         | (piv1.genres == 'Drama,Horror,Mystery') \\\n",
    "         | (piv1.genres == 'Action,Adventure,Animation')]\n",
    "viz0.sort_values(by=['genres'], ascending=False, inplace=True)\n"
   ]
  },
  {
   "cell_type": "code",
   "execution_count": 52,
   "metadata": {},
   "outputs": [
    {
     "data": {
      "image/png": "[encoded data removed]",
      "text/plain": [
       "<Figure size 1598.22x360 with 1 Axes>"
      ]
     },
     "metadata": {
      "needs_background": "light"
     },
     "output_type": "display_data"
    }
   ],
   "source": [
    "# Visualize data with Seaborn\n",
    "sns.set_context('poster');\n",
    "viz1 = sns.catplot(x='genres', y='count', hue='roi_category3', data=viz0, kind='bar', aspect=4, legend_out = True);\n",
    "viz1._legend.set_title('ROI category')\n"
   ]
  },
  {
   "cell_type": "markdown",
   "metadata": {},
   "source": [
    "### What genres are associated with the highest median ROI?"
   ]
  },
  {
   "cell_type": "code",
   "execution_count": 122,
   "metadata": {},
   "outputs": [],
   "source": [
    "# Create list of dummy columns associated with Genres\n",
    "genreList = []\n",
    "for el in df_fulldata['genres'].map(lambda x: str(x).split(\",\")):\n",
    "    for el2 in el:\n",
    "        genreList.append(el2)\n",
    "genreCols = list(set(genreList))"
   ]
  },
  {
   "cell_type": "code",
   "execution_count": 13,
   "metadata": {},
   "outputs": [],
   "source": [
    "# Create series sumarizing genre data\n",
    "meanROIs = {}\n",
    "for col in genreCols:\n",
    "    meanROIs[col] = (df_fulldata.loc[df_fulldata[col] == 1])['worldwide_roi'].mean()\n",
    "table1 = pd.DataFrame(pd.Series(meanROIs))\n",
    "table1.columns = ['mean_roi']\n",
    "\n",
    "medianROIs = {}\n",
    "for col in genreCols:\n",
    "    medianROIs[col] = (df_fulldata.loc[df_fulldata[col] == 1])['worldwide_roi'].median()\n",
    "table2 = pd.DataFrame(pd.Series(medianROIs))\n",
    "table2.columns = ['median_roi']\n",
    "\n",
    "stdROIs = {}\n",
    "for col in genreCols:\n",
    "    stdROIs[col] = (df_fulldata.loc[df_fulldata[col] == 1])['worldwide_roi'].std()\n",
    "table3 = pd.DataFrame(pd.Series(stdROIs))\n",
    "pd.DataFrame(table3.reset_index(inplace=True))\n",
    "table3.columns = ['genres','stdev']\n",
    "\n",
    "countROIs = {}\n",
    "for col in genreCols:\n",
    "    countROIs[col] = df_fulldata[col].sum()\n",
    "table4 = pd.DataFrame(pd.Series(countROIs))\n",
    "pd.DataFrame(table4.reset_index(inplace=True))\n",
    "table4.columns = ['genres','count']\n"
   ]
  },
  {
   "cell_type": "code",
   "execution_count": 14,
   "metadata": {
    "scrolled": true
   },
   "outputs": [
    {
     "data": {
      "text/html": [
       "<div>\n",
       "<style scoped>\n",
       "    .dataframe tbody tr th:only-of-type {\n",
       "        vertical-align: middle;\n",
       "    }\n",
       "\n",
       "    .dataframe tbody tr th {\n",
       "        vertical-align: top;\n",
       "    }\n",
       "\n",
       "    .dataframe thead th {\n",
       "        text-align: right;\n",
       "    }\n",
       "</style>\n",
       "<table border=\"1\" class=\"dataframe\">\n",
       "  <thead>\n",
       "    <tr style=\"text-align: right;\">\n",
       "      <th></th>\n",
       "      <th>genres</th>\n",
       "      <th>mean_roi</th>\n",
       "      <th>median_roi</th>\n",
       "      <th>stdev</th>\n",
       "      <th>count</th>\n",
       "    </tr>\n",
       "  </thead>\n",
       "  <tbody>\n",
       "    <tr>\n",
       "      <th>0</th>\n",
       "      <td>Mystery</td>\n",
       "      <td>969.924839</td>\n",
       "      <td>323.341050</td>\n",
       "      <td>3772.410542</td>\n",
       "      <td>126</td>\n",
       "    </tr>\n",
       "    <tr>\n",
       "      <th>1</th>\n",
       "      <td>Animation</td>\n",
       "      <td>367.441904</td>\n",
       "      <td>299.456497</td>\n",
       "      <td>286.741717</td>\n",
       "      <td>101</td>\n",
       "    </tr>\n",
       "    <tr>\n",
       "      <th>2</th>\n",
       "      <td>Sci-Fi</td>\n",
       "      <td>360.843431</td>\n",
       "      <td>267.273519</td>\n",
       "      <td>333.504156</td>\n",
       "      <td>134</td>\n",
       "    </tr>\n",
       "    <tr>\n",
       "      <th>3</th>\n",
       "      <td>Adventure</td>\n",
       "      <td>308.431154</td>\n",
       "      <td>263.067059</td>\n",
       "      <td>241.723199</td>\n",
       "      <td>350</td>\n",
       "    </tr>\n",
       "    <tr>\n",
       "      <th>4</th>\n",
       "      <td>Horror</td>\n",
       "      <td>881.836592</td>\n",
       "      <td>242.936084</td>\n",
       "      <td>3260.059609</td>\n",
       "      <td>184</td>\n",
       "    </tr>\n",
       "  </tbody>\n",
       "</table>\n",
       "</div>"
      ],
      "text/plain": [
       "      genres    mean_roi  median_roi        stdev  count\n",
       "0    Mystery  969.924839  323.341050  3772.410542    126\n",
       "1  Animation  367.441904  299.456497   286.741717    101\n",
       "2     Sci-Fi  360.843431  267.273519   333.504156    134\n",
       "3  Adventure  308.431154  263.067059   241.723199    350\n",
       "4     Horror  881.836592  242.936084  3260.059609    184"
      ]
     },
     "execution_count": 14,
     "metadata": {},
     "output_type": "execute_result"
    }
   ],
   "source": [
    "# Create a merged table\n",
    "table5 = table1.merge(table2, left_index=True, right_index=True)\n",
    "table5.sort_values('median_roi', inplace=True, ascending=False)\n",
    "table5.reset_index(inplace=True)\n",
    "table5.columns = ['genres','mean_roi','median_roi']\n",
    "table5 = table5.merge(table3, on='genres')\n",
    "table5 = table5.merge(table4, on='genres')\n",
    "table5.head()\n"
   ]
  },
  {
   "cell_type": "code",
   "execution_count": 87,
   "metadata": {},
   "outputs": [
    {
     "data": {
      "image/png": "[encoded data removed]",
      "text/plain": [
       "<Figure size 720x90 with 1 Axes>"
      ]
     },
     "metadata": {
      "needs_background": "light"
     },
     "output_type": "display_data"
    },
    {
     "data": {
      "image/png": "[encoded data removed]",
      "text/plain": [
       "<Figure size 720x90 with 1 Axes>"
      ]
     },
     "metadata": {
      "needs_background": "light"
     },
     "output_type": "display_data"
    },
    {
     "data": {
      "image/png": "[encoded data removed]",
      "text/plain": [
       "<Figure size 720x90 with 1 Axes>"
      ]
     },
     "metadata": {
      "needs_background": "light"
     },
     "output_type": "display_data"
    }
   ],
   "source": [
    "# Create distplot visualization to display distribution (median) and risk (standard deviation)\n",
    "viz2aa = df_fulldata.loc[df_fulldata['Mystery'] == 1];\n",
    "plt.figure(figsize=(10,1.25));\n",
    "viz2a = sns.distplot(viz2aa['worldwide_roi']);\n",
    "viz2a.set(title='Mystery');\n",
    "viz2a.set(ylim=(0,.003));\n",
    "viz2a.set(xlim=(-500,2000));\n",
    "\n",
    "viz2bb = df_fulldata.loc[df_fulldata['Animation'] == 1];\n",
    "plt.figure(figsize=(10,1.25));\n",
    "viz2b = sns.distplot(viz2bb['worldwide_roi']);\n",
    "viz2b.set(title='Animation');\n",
    "viz2b.set(ylim=(0,.003));\n",
    "viz2b.set(xlim=(-500,2000));\n",
    "\n",
    "viz2cc = df_fulldata.loc[df_fulldata['Sci-Fi'] == 1];\n",
    "plt.figure(figsize=(10,1.25));\n",
    "viz2c = sns.distplot(viz2cc['worldwide_roi']);\n",
    "viz2c.set(title='Sci-Fi');\n",
    "viz2c.set(ylim=(0,.003));\n",
    "viz2c.set(xlim=(-500,2000));"
   ]
  },
  {
   "cell_type": "markdown",
   "metadata": {},
   "source": [
    "### What genres should be avoided due to association with the lowest median ROIs?"
   ]
  },
  {
   "cell_type": "code",
   "execution_count": 93,
   "metadata": {},
   "outputs": [
    {
     "data": {
      "text/html": [
       "<div>\n",
       "<style scoped>\n",
       "    .dataframe tbody tr th:only-of-type {\n",
       "        vertical-align: middle;\n",
       "    }\n",
       "\n",
       "    .dataframe tbody tr th {\n",
       "        vertical-align: top;\n",
       "    }\n",
       "\n",
       "    .dataframe thead th {\n",
       "        text-align: right;\n",
       "    }\n",
       "</style>\n",
       "<table border=\"1\" class=\"dataframe\">\n",
       "  <thead>\n",
       "    <tr style=\"text-align: right;\">\n",
       "      <th></th>\n",
       "      <th>genres</th>\n",
       "      <th>mean_roi</th>\n",
       "      <th>median_roi</th>\n",
       "      <th>stdev</th>\n",
       "      <th>count</th>\n",
       "    </tr>\n",
       "  </thead>\n",
       "  <tbody>\n",
       "    <tr>\n",
       "      <th>12</th>\n",
       "      <td>Biography</td>\n",
       "      <td>338.162073</td>\n",
       "      <td>186.987333</td>\n",
       "      <td>442.768858</td>\n",
       "      <td>135</td>\n",
       "    </tr>\n",
       "    <tr>\n",
       "      <th>14</th>\n",
       "      <td>Drama</td>\n",
       "      <td>315.406720</td>\n",
       "      <td>176.019900</td>\n",
       "      <td>462.449961</td>\n",
       "      <td>734</td>\n",
       "    </tr>\n",
       "    <tr>\n",
       "      <th>16</th>\n",
       "      <td>Crime</td>\n",
       "      <td>215.907137</td>\n",
       "      <td>163.040095</td>\n",
       "      <td>222.134389</td>\n",
       "      <td>233</td>\n",
       "    </tr>\n",
       "  </tbody>\n",
       "</table>\n",
       "</div>"
      ],
      "text/plain": [
       "       genres    mean_roi  median_roi       stdev  count\n",
       "12  Biography  338.162073  186.987333  442.768858    135\n",
       "14      Drama  315.406720  176.019900  462.449961    734\n",
       "16      Crime  215.907137  163.040095  222.134389    233"
      ]
     },
     "execution_count": 93,
     "metadata": {},
     "output_type": "execute_result"
    }
   ],
   "source": [
    "table5.loc[table5['count'] > 100].tail(3)"
   ]
  },
  {
   "cell_type": "code",
   "execution_count": 119,
   "metadata": {},
   "outputs": [],
   "source": [
    "# Set up table for visualization\n",
    "piv3 = pd.DataFrame((pd.pivot_table(df_fulldata, index=['roi_category'], values=df_fulldata[[el for el in genreCols]], aggfunc='sum')).stack())\n",
    "piv3.reset_index(inplace=True)\n",
    "piv3.columns = ['roi_category', 'genres', 'count']\n",
    "piv3['roi_category2'] = piv3['roi_category'].apply(lambda x: {'high':'high', 'somewhat high':'other', 'moderate':'other', 'somewhat low':'other', 'low':'other'}[x])\n",
    "piv3['roi_category3'] = piv3['roi_category'].apply(lambda x: {'high':'high', 'somewhat high':np.nan, 'moderate':np.nan, 'somewhat low':np.nan, 'low':'low'}[x])\n",
    "\n",
    "viz3 = piv3.loc[(piv3.genres == 'Biography') \\\n",
    "         | (piv3.genres == 'Drama') \\\n",
    "         | (piv3.genres == 'Crime')]\n",
    "viz3['genreSort'] = viz3['genres'].apply(lambda x: {'Biography':12, 'Drama':14, 'Crime':16}[x])\n",
    "viz3.sort_values(['genreSort'], inplace=True)"
   ]
  },
  {
   "cell_type": "code",
   "execution_count": 121,
   "metadata": {},
   "outputs": [
    {
     "data": {
      "image/png": "[encoded data removed]",
      "text/plain": [
       "<Figure size 1598.22x360 with 1 Axes>"
      ]
     },
     "metadata": {
      "needs_background": "light"
     },
     "output_type": "display_data"
    }
   ],
   "source": [
    "# Visualize low performing genres in bar chart\n",
    "viz3a = sns.catplot(x='genres', y='count', hue='roi_category3', data=viz3, kind='bar', aspect=4);\n",
    "viz3a._legend.set_title('ROI category')\n"
   ]
  },
  {
   "cell_type": "markdown",
   "metadata": {},
   "source": [
    "### Recommendations\n",
    "1.\tClient should target **high-return, low-risk** genres such as **Animation, Sci-Fi and Adventure**.  In the past, the combination of Action/Adventure/Animation has yielded high-return films.\n",
    "2.\tClient should seek concepts/titles than have **significant potential** for serialization within high ROI genres (potentially look to comics or multi-novel series).\n",
    "3.\tClient should **carefully evaluate** projects in the **Mystery and Horror** genres.  Historical data indicates that Horror/Mystery/Thrillers and Drama/Horror/ Mystery represent high risk, high reward opportunities.\n",
    "4.\tClient **should avoid Biography, Drama, and Crime** genres, given their relatively low ROI.\n"
   ]
  },
  {
   "cell_type": "markdown",
   "metadata": {},
   "source": [
    "### Areas for Further Analysis\n",
    " - Within target genres, are there key players (i.e. director, producer, screenwriters) to involve in production?"
   ]
  }
 ],
 "metadata": {
  "kernelspec": {
   "display_name": "Python 3",
   "language": "python",
   "name": "python3"
  },
  "language_info": {
   "codemirror_mode": {
    "name": "ipython",
    "version": 3
   },
   "file_extension": ".py",
   "mimetype": "text/x-python",
   "name": "python",
   "nbconvert_exporter": "python",
   "pygments_lexer": "ipython3",
   "version": "3.7.3"
  }
 },
 "nbformat": 4,
 "nbformat_minor": 2
}
