{
 "cells": [
  {
   "cell_type": "markdown",
   "metadata": {},
   "source": [
    "#  **Microsoft Movie Studio - Technical Summary**\n",
    "Authors: Stu Murphy and Nicole Bills\n",
    "\n",
    "Date: 10/23/19\n",
    "\n",
    "Data source: The Numbers (Movie budgets and worldwide gross) & IMDB (genres)"
   ]
  },
  {
   "cell_type": "code",
   "execution_count": 1,
   "metadata": {},
   "outputs": [],
   "source": [
    "import numpy as np\n",
    "import pandas as pd\n",
    "import matplotlib.pyplot as plt\n",
    "import seaborn as sns\n",
    "import warnings\n",
    "warnings.filterwarnings('ignore')\n",
    "from functions import *"
   ]
  },
  {
   "cell_type": "code",
   "execution_count": 2,
   "metadata": {},
   "outputs": [],
   "source": [
    "# import raw data files\n",
    "df_budgets = pd.read_csv('data/tn.movie_budgets.csv.gz')\n",
    "df_basics = pd.read_csv('data/imdb.title.basics.csv.gz')"
   ]
  },
  {
   "cell_type": "markdown",
   "metadata": {},
   "source": [
    "# Report - Opportunity Analysis"
   ]
  },
  {
   "cell_type": "markdown",
   "metadata": {},
   "source": [
    "Goal:  develop a strategy for Microsoft to create a successful movie studio based on return on investment (ROI)\n",
    "\n",
    "Results:    Microsoft should focus its efforts on Animation, Sci-Fi and Adventure (high return, low risk), and consider investing in Mystery and Horror (high return, high risk).  The studio should avoid producing films in the Bigraphy, Drama, and Crime categories."
   ]
  },
  {
   "cell_type": "markdown",
   "metadata": {},
   "source": [
    "### Assumptions\n",
    "Return on investment (ROI) is the best metric for Microsoft to assess to evaluate the success of the new venture. We have chosen to define ROI based on net revenue for the following reasons:\n",
    "1.\t**Valuation**: given that Microsoft is a publicly traded company, the company’s valuation is based off of quarterly earnings (earnings per share) and not profit margin. We also recognize that Microsoft wants their new movie studio to be profitable, therefore using total sales or gross revenue would be meaningless.\n",
    "2.   **Context**: We do not want to assume that Microsoft will be as immediately as profitable as their competitors, when entering a new market. We should assume the company will incur higher production and operational costs due to initial capex and operational inefficiencies.\n",
    "3.   **Perception**: Important at an early stage. Headlines with large box office earnings (not profits) are advantageous when establishing a venture in a new vertical around strong competition."
   ]
  },
  {
   "cell_type": "markdown",
   "metadata": {},
   "source": [
    "### Methodology\n",
    "1.\tFeature Selection\n",
    "    -\tIdentifying net revenue ROI as our target variable and selecting Genre as our subject for exploration\n",
    "2.\tData Cleaning\n",
    "    -\tTransformation of str to int\n",
    "    -\tDrop outliers\n",
    "3.\tFeature Engineering\n",
    "    -\tNew feature creation (ROI)\n",
    "    -\tSort values\n",
    "    -\tReset index\n",
    "    -\tMerge datasets\n",
    "    -\tDrop missing values\n",
    "4.\tExploratory Analysis & Visualization\n",
    "    -\tCentral tendency\n",
    "    -\tDistribution plots\n",
    "    -\tQuintile comparisons"
   ]
  },
  {
   "cell_type": "markdown",
   "metadata": {},
   "source": [
    "### Data Preparation"
   ]
  },
  {
   "cell_type": "code",
   "execution_count": 3,
   "metadata": {},
   "outputs": [
    {
     "data": {
      "text/html": [
       "<div>\n",
       "<style scoped>\n",
       "    .dataframe tbody tr th:only-of-type {\n",
       "        vertical-align: middle;\n",
       "    }\n",
       "\n",
       "    .dataframe tbody tr th {\n",
       "        vertical-align: top;\n",
       "    }\n",
       "\n",
       "    .dataframe thead th {\n",
       "        text-align: right;\n",
       "    }\n",
       "</style>\n",
       "<table border=\"1\" class=\"dataframe\">\n",
       "  <thead>\n",
       "    <tr style=\"text-align: right;\">\n",
       "      <th></th>\n",
       "      <th>id</th>\n",
       "      <th>release_date</th>\n",
       "      <th>movie</th>\n",
       "      <th>production_budget</th>\n",
       "      <th>domestic_gross</th>\n",
       "      <th>worldwide_gross</th>\n",
       "      <th>worldwide_roi</th>\n",
       "      <th>roi_category</th>\n",
       "    </tr>\n",
       "  </thead>\n",
       "  <tbody>\n",
       "    <tr>\n",
       "      <th>0</th>\n",
       "      <td>14</td>\n",
       "      <td>Mar 21, 1980</td>\n",
       "      <td>Mad Max</td>\n",
       "      <td>200000</td>\n",
       "      <td>8750000</td>\n",
       "      <td>99750000</td>\n",
       "      <td>49875.000000</td>\n",
       "      <td>high</td>\n",
       "    </tr>\n",
       "    <tr>\n",
       "      <th>1</th>\n",
       "      <td>93</td>\n",
       "      <td>Sep 25, 2009</td>\n",
       "      <td>Paranormal Activity</td>\n",
       "      <td>450000</td>\n",
       "      <td>107918810</td>\n",
       "      <td>194183034</td>\n",
       "      <td>43151.785333</td>\n",
       "      <td>high</td>\n",
       "    </tr>\n",
       "    <tr>\n",
       "      <th>2</th>\n",
       "      <td>80</td>\n",
       "      <td>Jul 10, 2015</td>\n",
       "      <td>The Gallows</td>\n",
       "      <td>100000</td>\n",
       "      <td>22764410</td>\n",
       "      <td>41656474</td>\n",
       "      <td>41656.474000</td>\n",
       "      <td>high</td>\n",
       "    </tr>\n",
       "    <tr>\n",
       "      <th>3</th>\n",
       "      <td>7</td>\n",
       "      <td>Jul 14, 1999</td>\n",
       "      <td>The Blair Witch Project</td>\n",
       "      <td>600000</td>\n",
       "      <td>140539099</td>\n",
       "      <td>248300000</td>\n",
       "      <td>41383.333333</td>\n",
       "      <td>high</td>\n",
       "    </tr>\n",
       "    <tr>\n",
       "      <th>4</th>\n",
       "      <td>10</td>\n",
       "      <td>May 7, 2004</td>\n",
       "      <td>Super Size Me</td>\n",
       "      <td>65000</td>\n",
       "      <td>11529368</td>\n",
       "      <td>22233808</td>\n",
       "      <td>34205.858462</td>\n",
       "      <td>high</td>\n",
       "    </tr>\n",
       "  </tbody>\n",
       "</table>\n",
       "</div>"
      ],
      "text/plain": [
       "   id  release_date                    movie  production_budget  \\\n",
       "0  14  Mar 21, 1980                  Mad Max             200000   \n",
       "1  93  Sep 25, 2009      Paranormal Activity             450000   \n",
       "2  80  Jul 10, 2015              The Gallows             100000   \n",
       "3   7  Jul 14, 1999  The Blair Witch Project             600000   \n",
       "4  10   May 7, 2004            Super Size Me              65000   \n",
       "\n",
       "   domestic_gross  worldwide_gross  worldwide_roi roi_category  \n",
       "0         8750000         99750000   49875.000000         high  \n",
       "1       107918810        194183034   43151.785333         high  \n",
       "2        22764410         41656474   41656.474000         high  \n",
       "3       140539099        248300000   41383.333333         high  \n",
       "4        11529368         22233808   34205.858462         high  "
      ]
     },
     "execution_count": 3,
     "metadata": {},
     "output_type": "execute_result"
    }
   ],
   "source": [
    "# Clean data\n",
    "df_budgets = cleanbudgetdata(df_budgets)\n",
    "df_budgets = manipulatebudgetdata(df_budgets)\n",
    "df_budgets = createquint(df_budgets)\n",
    "df_budgets.head()\n"
   ]
  },
  {
   "cell_type": "code",
   "execution_count": 4,
   "metadata": {
    "scrolled": false
   },
   "outputs": [
    {
     "data": {
      "text/html": [
       "<div>\n",
       "<style scoped>\n",
       "    .dataframe tbody tr th:only-of-type {\n",
       "        vertical-align: middle;\n",
       "    }\n",
       "\n",
       "    .dataframe tbody tr th {\n",
       "        vertical-align: top;\n",
       "    }\n",
       "\n",
       "    .dataframe thead th {\n",
       "        text-align: right;\n",
       "    }\n",
       "</style>\n",
       "<table border=\"1\" class=\"dataframe\">\n",
       "  <thead>\n",
       "    <tr style=\"text-align: right;\">\n",
       "      <th></th>\n",
       "      <th>release_date</th>\n",
       "      <th>movie</th>\n",
       "      <th>production_budget</th>\n",
       "      <th>domestic_gross</th>\n",
       "      <th>worldwide_gross</th>\n",
       "      <th>worldwide_roi</th>\n",
       "      <th>roi_category</th>\n",
       "      <th>movie_year</th>\n",
       "      <th>tconst</th>\n",
       "      <th>primary_title</th>\n",
       "      <th>original_title</th>\n",
       "      <th>start_year</th>\n",
       "      <th>runtime_minutes</th>\n",
       "      <th>genres</th>\n",
       "    </tr>\n",
       "    <tr>\n",
       "      <th>id</th>\n",
       "      <th></th>\n",
       "      <th></th>\n",
       "      <th></th>\n",
       "      <th></th>\n",
       "      <th></th>\n",
       "      <th></th>\n",
       "      <th></th>\n",
       "      <th></th>\n",
       "      <th></th>\n",
       "      <th></th>\n",
       "      <th></th>\n",
       "      <th></th>\n",
       "      <th></th>\n",
       "      <th></th>\n",
       "    </tr>\n",
       "  </thead>\n",
       "  <tbody>\n",
       "    <tr>\n",
       "      <th>80</th>\n",
       "      <td>Jul 10, 2015</td>\n",
       "      <td>The Gallows</td>\n",
       "      <td>100000</td>\n",
       "      <td>22764410</td>\n",
       "      <td>41656474</td>\n",
       "      <td>41656.474000</td>\n",
       "      <td>high</td>\n",
       "      <td>The Gallows (2015)</td>\n",
       "      <td>tt2309260</td>\n",
       "      <td>The Gallows</td>\n",
       "      <td>The Gallows</td>\n",
       "      <td>2015.0</td>\n",
       "      <td>81.0</td>\n",
       "      <td>Horror,Mystery,Thriller</td>\n",
       "    </tr>\n",
       "    <tr>\n",
       "      <th>12</th>\n",
       "      <td>Jan 6, 2012</td>\n",
       "      <td>The Devil Inside</td>\n",
       "      <td>1000000</td>\n",
       "      <td>53262945</td>\n",
       "      <td>101759490</td>\n",
       "      <td>10175.949000</td>\n",
       "      <td>high</td>\n",
       "      <td>The Devil Inside (2012)</td>\n",
       "      <td>tt1560985</td>\n",
       "      <td>The Devil Inside</td>\n",
       "      <td>The Devil Inside</td>\n",
       "      <td>2012.0</td>\n",
       "      <td>83.0</td>\n",
       "      <td>Horror</td>\n",
       "    </tr>\n",
       "    <tr>\n",
       "      <th>65</th>\n",
       "      <td>Oct 20, 2010</td>\n",
       "      <td>Paranormal Activity 2</td>\n",
       "      <td>3000000</td>\n",
       "      <td>84752907</td>\n",
       "      <td>177512032</td>\n",
       "      <td>5917.067733</td>\n",
       "      <td>high</td>\n",
       "      <td>Paranormal Activity 2 (2010)</td>\n",
       "      <td>tt1536044</td>\n",
       "      <td>Paranormal Activity 2</td>\n",
       "      <td>Paranormal Activity 2</td>\n",
       "      <td>2010.0</td>\n",
       "      <td>91.0</td>\n",
       "      <td>Horror</td>\n",
       "    </tr>\n",
       "    <tr>\n",
       "      <th>49</th>\n",
       "      <td>Feb 24, 2017</td>\n",
       "      <td>Get Out</td>\n",
       "      <td>5000000</td>\n",
       "      <td>176040665</td>\n",
       "      <td>255367951</td>\n",
       "      <td>5107.359020</td>\n",
       "      <td>high</td>\n",
       "      <td>Get Out (2017)</td>\n",
       "      <td>tt5052448</td>\n",
       "      <td>Get Out</td>\n",
       "      <td>Get Out</td>\n",
       "      <td>2017.0</td>\n",
       "      <td>104.0</td>\n",
       "      <td>Horror,Mystery,Thriller</td>\n",
       "    </tr>\n",
       "    <tr>\n",
       "      <th>64</th>\n",
       "      <td>Oct 21, 2016</td>\n",
       "      <td>Moonlight</td>\n",
       "      <td>1500000</td>\n",
       "      <td>27854931</td>\n",
       "      <td>65245512</td>\n",
       "      <td>4349.700800</td>\n",
       "      <td>high</td>\n",
       "      <td>Moonlight (2016)</td>\n",
       "      <td>tt4975722</td>\n",
       "      <td>Moonlight</td>\n",
       "      <td>Moonlight</td>\n",
       "      <td>2016.0</td>\n",
       "      <td>111.0</td>\n",
       "      <td>Drama</td>\n",
       "    </tr>\n",
       "  </tbody>\n",
       "</table>\n",
       "</div>"
      ],
      "text/plain": [
       "    release_date                  movie  production_budget  domestic_gross  \\\n",
       "id                                                                           \n",
       "80  Jul 10, 2015            The Gallows             100000        22764410   \n",
       "12   Jan 6, 2012       The Devil Inside            1000000        53262945   \n",
       "65  Oct 20, 2010  Paranormal Activity 2            3000000        84752907   \n",
       "49  Feb 24, 2017                Get Out            5000000       176040665   \n",
       "64  Oct 21, 2016              Moonlight            1500000        27854931   \n",
       "\n",
       "    worldwide_gross  worldwide_roi roi_category                    movie_year  \\\n",
       "id                                                                              \n",
       "80         41656474   41656.474000         high            The Gallows (2015)   \n",
       "12        101759490   10175.949000         high       The Devil Inside (2012)   \n",
       "65        177512032    5917.067733         high  Paranormal Activity 2 (2010)   \n",
       "49        255367951    5107.359020         high                Get Out (2017)   \n",
       "64         65245512    4349.700800         high              Moonlight (2016)   \n",
       "\n",
       "       tconst          primary_title         original_title  start_year  \\\n",
       "id                                                                        \n",
       "80  tt2309260            The Gallows            The Gallows      2015.0   \n",
       "12  tt1560985       The Devil Inside       The Devil Inside      2012.0   \n",
       "65  tt1536044  Paranormal Activity 2  Paranormal Activity 2      2010.0   \n",
       "49  tt5052448                Get Out                Get Out      2017.0   \n",
       "64  tt4975722              Moonlight              Moonlight      2016.0   \n",
       "\n",
       "    runtime_minutes                   genres  \n",
       "id                                            \n",
       "80             81.0  Horror,Mystery,Thriller  \n",
       "12             83.0                   Horror  \n",
       "65             91.0                   Horror  \n",
       "49            104.0  Horror,Mystery,Thriller  \n",
       "64            111.0                    Drama  "
      ]
     },
     "execution_count": 4,
     "metadata": {},
     "output_type": "execute_result"
    }
   ],
   "source": [
    "# Merge datasets\n",
    "df_fulldata = executemerge(df_budgets, df_basics)\n",
    "df_fulldata.head()"
   ]
  },
  {
   "cell_type": "markdown",
   "metadata": {},
   "source": [
    "### Analysis"
   ]
  },
  {
   "cell_type": "code",
   "execution_count": 9,
   "metadata": {},
   "outputs": [
    {
     "ename": "FileNotFoundError",
     "evalue": "[Errno 2] File b'movie_data.csv' does not exist: b'movie_data.csv'",
     "output_type": "error",
     "traceback": [
      "\u001b[0;31m---------------------------------------------------------------------------\u001b[0m",
      "\u001b[0;31mFileNotFoundError\u001b[0m                         Traceback (most recent call last)",
      "\u001b[0;32m<ipython-input-9-c2834deed71a>\u001b[0m in \u001b[0;36m<module>\u001b[0;34m\u001b[0m\n\u001b[0;32m----> 1\u001b[0;31m \u001b[0mdf_fulldata\u001b[0m \u001b[0;34m=\u001b[0m \u001b[0mpd\u001b[0m\u001b[0;34m.\u001b[0m\u001b[0mread_csv\u001b[0m\u001b[0;34m(\u001b[0m\u001b[0;34m'movie_data.csv'\u001b[0m\u001b[0;34m)\u001b[0m\u001b[0;34m\u001b[0m\u001b[0;34m\u001b[0m\u001b[0m\n\u001b[0m",
      "\u001b[0;32m~/anaconda3/lib/python3.7/site-packages/pandas/io/parsers.py\u001b[0m in \u001b[0;36mparser_f\u001b[0;34m(filepath_or_buffer, sep, delimiter, header, names, index_col, usecols, squeeze, prefix, mangle_dupe_cols, dtype, engine, converters, true_values, false_values, skipinitialspace, skiprows, skipfooter, nrows, na_values, keep_default_na, na_filter, verbose, skip_blank_lines, parse_dates, infer_datetime_format, keep_date_col, date_parser, dayfirst, iterator, chunksize, compression, thousands, decimal, lineterminator, quotechar, quoting, doublequote, escapechar, comment, encoding, dialect, tupleize_cols, error_bad_lines, warn_bad_lines, delim_whitespace, low_memory, memory_map, float_precision)\u001b[0m\n\u001b[1;32m    700\u001b[0m                     skip_blank_lines=skip_blank_lines)\n\u001b[1;32m    701\u001b[0m \u001b[0;34m\u001b[0m\u001b[0m\n\u001b[0;32m--> 702\u001b[0;31m         \u001b[0;32mreturn\u001b[0m \u001b[0m_read\u001b[0m\u001b[0;34m(\u001b[0m\u001b[0mfilepath_or_buffer\u001b[0m\u001b[0;34m,\u001b[0m \u001b[0mkwds\u001b[0m\u001b[0;34m)\u001b[0m\u001b[0;34m\u001b[0m\u001b[0;34m\u001b[0m\u001b[0m\n\u001b[0m\u001b[1;32m    703\u001b[0m \u001b[0;34m\u001b[0m\u001b[0m\n\u001b[1;32m    704\u001b[0m     \u001b[0mparser_f\u001b[0m\u001b[0;34m.\u001b[0m\u001b[0m__name__\u001b[0m \u001b[0;34m=\u001b[0m \u001b[0mname\u001b[0m\u001b[0;34m\u001b[0m\u001b[0;34m\u001b[0m\u001b[0m\n",
      "\u001b[0;32m~/anaconda3/lib/python3.7/site-packages/pandas/io/parsers.py\u001b[0m in \u001b[0;36m_read\u001b[0;34m(filepath_or_buffer, kwds)\u001b[0m\n\u001b[1;32m    427\u001b[0m \u001b[0;34m\u001b[0m\u001b[0m\n\u001b[1;32m    428\u001b[0m     \u001b[0;31m# Create the parser.\u001b[0m\u001b[0;34m\u001b[0m\u001b[0;34m\u001b[0m\u001b[0;34m\u001b[0m\u001b[0m\n\u001b[0;32m--> 429\u001b[0;31m     \u001b[0mparser\u001b[0m \u001b[0;34m=\u001b[0m \u001b[0mTextFileReader\u001b[0m\u001b[0;34m(\u001b[0m\u001b[0mfilepath_or_buffer\u001b[0m\u001b[0;34m,\u001b[0m \u001b[0;34m**\u001b[0m\u001b[0mkwds\u001b[0m\u001b[0;34m)\u001b[0m\u001b[0;34m\u001b[0m\u001b[0;34m\u001b[0m\u001b[0m\n\u001b[0m\u001b[1;32m    430\u001b[0m \u001b[0;34m\u001b[0m\u001b[0m\n\u001b[1;32m    431\u001b[0m     \u001b[0;32mif\u001b[0m \u001b[0mchunksize\u001b[0m \u001b[0;32mor\u001b[0m \u001b[0miterator\u001b[0m\u001b[0;34m:\u001b[0m\u001b[0;34m\u001b[0m\u001b[0;34m\u001b[0m\u001b[0m\n",
      "\u001b[0;32m~/anaconda3/lib/python3.7/site-packages/pandas/io/parsers.py\u001b[0m in \u001b[0;36m__init__\u001b[0;34m(self, f, engine, **kwds)\u001b[0m\n\u001b[1;32m    893\u001b[0m             \u001b[0mself\u001b[0m\u001b[0;34m.\u001b[0m\u001b[0moptions\u001b[0m\u001b[0;34m[\u001b[0m\u001b[0;34m'has_index_names'\u001b[0m\u001b[0;34m]\u001b[0m \u001b[0;34m=\u001b[0m \u001b[0mkwds\u001b[0m\u001b[0;34m[\u001b[0m\u001b[0;34m'has_index_names'\u001b[0m\u001b[0;34m]\u001b[0m\u001b[0;34m\u001b[0m\u001b[0;34m\u001b[0m\u001b[0m\n\u001b[1;32m    894\u001b[0m \u001b[0;34m\u001b[0m\u001b[0m\n\u001b[0;32m--> 895\u001b[0;31m         \u001b[0mself\u001b[0m\u001b[0;34m.\u001b[0m\u001b[0m_make_engine\u001b[0m\u001b[0;34m(\u001b[0m\u001b[0mself\u001b[0m\u001b[0;34m.\u001b[0m\u001b[0mengine\u001b[0m\u001b[0;34m)\u001b[0m\u001b[0;34m\u001b[0m\u001b[0;34m\u001b[0m\u001b[0m\n\u001b[0m\u001b[1;32m    896\u001b[0m \u001b[0;34m\u001b[0m\u001b[0m\n\u001b[1;32m    897\u001b[0m     \u001b[0;32mdef\u001b[0m \u001b[0mclose\u001b[0m\u001b[0;34m(\u001b[0m\u001b[0mself\u001b[0m\u001b[0;34m)\u001b[0m\u001b[0;34m:\u001b[0m\u001b[0;34m\u001b[0m\u001b[0;34m\u001b[0m\u001b[0m\n",
      "\u001b[0;32m~/anaconda3/lib/python3.7/site-packages/pandas/io/parsers.py\u001b[0m in \u001b[0;36m_make_engine\u001b[0;34m(self, engine)\u001b[0m\n\u001b[1;32m   1120\u001b[0m     \u001b[0;32mdef\u001b[0m \u001b[0m_make_engine\u001b[0m\u001b[0;34m(\u001b[0m\u001b[0mself\u001b[0m\u001b[0;34m,\u001b[0m \u001b[0mengine\u001b[0m\u001b[0;34m=\u001b[0m\u001b[0;34m'c'\u001b[0m\u001b[0;34m)\u001b[0m\u001b[0;34m:\u001b[0m\u001b[0;34m\u001b[0m\u001b[0;34m\u001b[0m\u001b[0m\n\u001b[1;32m   1121\u001b[0m         \u001b[0;32mif\u001b[0m \u001b[0mengine\u001b[0m \u001b[0;34m==\u001b[0m \u001b[0;34m'c'\u001b[0m\u001b[0;34m:\u001b[0m\u001b[0;34m\u001b[0m\u001b[0;34m\u001b[0m\u001b[0m\n\u001b[0;32m-> 1122\u001b[0;31m             \u001b[0mself\u001b[0m\u001b[0;34m.\u001b[0m\u001b[0m_engine\u001b[0m \u001b[0;34m=\u001b[0m \u001b[0mCParserWrapper\u001b[0m\u001b[0;34m(\u001b[0m\u001b[0mself\u001b[0m\u001b[0;34m.\u001b[0m\u001b[0mf\u001b[0m\u001b[0;34m,\u001b[0m \u001b[0;34m**\u001b[0m\u001b[0mself\u001b[0m\u001b[0;34m.\u001b[0m\u001b[0moptions\u001b[0m\u001b[0;34m)\u001b[0m\u001b[0;34m\u001b[0m\u001b[0;34m\u001b[0m\u001b[0m\n\u001b[0m\u001b[1;32m   1123\u001b[0m         \u001b[0;32melse\u001b[0m\u001b[0;34m:\u001b[0m\u001b[0;34m\u001b[0m\u001b[0;34m\u001b[0m\u001b[0m\n\u001b[1;32m   1124\u001b[0m             \u001b[0;32mif\u001b[0m \u001b[0mengine\u001b[0m \u001b[0;34m==\u001b[0m \u001b[0;34m'python'\u001b[0m\u001b[0;34m:\u001b[0m\u001b[0;34m\u001b[0m\u001b[0;34m\u001b[0m\u001b[0m\n",
      "\u001b[0;32m~/anaconda3/lib/python3.7/site-packages/pandas/io/parsers.py\u001b[0m in \u001b[0;36m__init__\u001b[0;34m(self, src, **kwds)\u001b[0m\n\u001b[1;32m   1851\u001b[0m         \u001b[0mkwds\u001b[0m\u001b[0;34m[\u001b[0m\u001b[0;34m'usecols'\u001b[0m\u001b[0;34m]\u001b[0m \u001b[0;34m=\u001b[0m \u001b[0mself\u001b[0m\u001b[0;34m.\u001b[0m\u001b[0musecols\u001b[0m\u001b[0;34m\u001b[0m\u001b[0;34m\u001b[0m\u001b[0m\n\u001b[1;32m   1852\u001b[0m \u001b[0;34m\u001b[0m\u001b[0m\n\u001b[0;32m-> 1853\u001b[0;31m         \u001b[0mself\u001b[0m\u001b[0;34m.\u001b[0m\u001b[0m_reader\u001b[0m \u001b[0;34m=\u001b[0m \u001b[0mparsers\u001b[0m\u001b[0;34m.\u001b[0m\u001b[0mTextReader\u001b[0m\u001b[0;34m(\u001b[0m\u001b[0msrc\u001b[0m\u001b[0;34m,\u001b[0m \u001b[0;34m**\u001b[0m\u001b[0mkwds\u001b[0m\u001b[0;34m)\u001b[0m\u001b[0;34m\u001b[0m\u001b[0;34m\u001b[0m\u001b[0m\n\u001b[0m\u001b[1;32m   1854\u001b[0m         \u001b[0mself\u001b[0m\u001b[0;34m.\u001b[0m\u001b[0munnamed_cols\u001b[0m \u001b[0;34m=\u001b[0m \u001b[0mself\u001b[0m\u001b[0;34m.\u001b[0m\u001b[0m_reader\u001b[0m\u001b[0;34m.\u001b[0m\u001b[0munnamed_cols\u001b[0m\u001b[0;34m\u001b[0m\u001b[0;34m\u001b[0m\u001b[0m\n\u001b[1;32m   1855\u001b[0m \u001b[0;34m\u001b[0m\u001b[0m\n",
      "\u001b[0;32mpandas/_libs/parsers.pyx\u001b[0m in \u001b[0;36mpandas._libs.parsers.TextReader.__cinit__\u001b[0;34m()\u001b[0m\n",
      "\u001b[0;32mpandas/_libs/parsers.pyx\u001b[0m in \u001b[0;36mpandas._libs.parsers.TextReader._setup_parser_source\u001b[0;34m()\u001b[0m\n",
      "\u001b[0;31mFileNotFoundError\u001b[0m: [Errno 2] File b'movie_data.csv' does not exist: b'movie_data.csv'"
     ]
    }
   ],
   "source": [
    "df_fulldata = pd.read_csv('movie_data.csv')"
   ]
  },
  {
   "cell_type": "markdown",
   "metadata": {},
   "source": [
    "#### What genres groupings are associated with the highest median ROI?"
   ]
  },
  {
   "cell_type": "code",
   "execution_count": null,
   "metadata": {},
   "outputs": [],
   "source": [
    "# Set up a table with median revenue by genre grouping, where count of movies in each genre grouping >= 10\n",
    "table1 = pd.pivot_table(df_fulldata, index=['genres'], values ='worldwide_roi', aggfunc=['mean','median','std','count'])\n",
    "table1 = pd.DataFrame(table1)\n",
    "table1.columns = table1.columns.to_series().str.join('_')\n",
    "table1 = pd.DataFrame(table1.sort_values('median_worldwide_roi', ascending=False))\n",
    "table1 = pd.DataFrame(table1.loc[table1['count_worldwide_roi']>9].reset_index())\n",
    "table1.columns = ['genre_groupings', 'mean_worldwide_roi', 'median_worldwide_roi',\n",
    "       'std_worldwide_roi', 'count_worldwide_roi']\n",
    "table1[['genre_groupings','median_worldwide_roi','std_worldwide_roi','count_worldwide_roi']].head()\n"
   ]
  },
  {
   "cell_type": "code",
   "execution_count": null,
   "metadata": {},
   "outputs": [],
   "source": [
    "# Create a pivot table by ROI category and Genre, and add additional ROI classifications to enable sort\n",
    "piv1 = pd.pivot_table(df_fulldata, index=['roi_category','genres'], values ='id', aggfunc='count')\n",
    "piv1 = piv1.reset_index()\n",
    "piv1.columns = ['roi_category', 'genres', 'count']\n",
    "piv1['roi_category2'] = piv1['roi_category'].apply(lambda x: {'high':'high', 'somewhat high':'other', 'moderate':'other', 'somewhat low':'other', 'low':'other'}[x])\n",
    "piv1['roi_category3'] = piv1['roi_category'].apply(lambda x: {'high':'high', 'somewhat high':np.nan, 'moderate':np.nan, 'somewhat low':np.nan, 'low':'low'}[x])\n"
   ]
  },
  {
   "cell_type": "code",
   "execution_count": null,
   "metadata": {},
   "outputs": [],
   "source": [
    "# Create a table to visualize with seaborn\n",
    "viz0 = piv1.loc[(piv1.genres == 'Horror,Mystery,Thriller') \\\n",
    "         | (piv1.genres == 'Drama,Horror,Mystery') \\\n",
    "         | (piv1.genres == 'Action,Adventure,Animation')]\n",
    "viz0.sort_values(by=['genres'], ascending=False, inplace=True)\n"
   ]
  },
  {
   "cell_type": "code",
   "execution_count": null,
   "metadata": {},
   "outputs": [],
   "source": [
    "# Visualize data with Seaborn\n",
    "sns.set_context('poster');\n",
    "viz1 = sns.catplot(x='genres', y='count', hue='roi_category3', data=viz0, kind='bar', aspect=4, legend_out = True);\n",
    "viz1._legend.set_title('ROI category')\n"
   ]
  },
  {
   "cell_type": "markdown",
   "metadata": {},
   "source": [
    "### What genres are associated with the highest median ROI?"
   ]
  },
  {
   "cell_type": "code",
   "execution_count": null,
   "metadata": {},
   "outputs": [],
   "source": [
    "# Create list of dummy columns associated with Genres\n",
    "genreList = []\n",
    "for el in df_fulldata['genres'].map(lambda x: str(x).split(\",\")):\n",
    "    for el2 in el:\n",
    "        genreList.append(el2)\n",
    "genreCols = list(set(genreList))"
   ]
  },
  {
   "cell_type": "code",
   "execution_count": null,
   "metadata": {},
   "outputs": [],
   "source": [
    "# Create series sumarizing genre data\n",
    "meanROIs = {}\n",
    "for col in genreCols:\n",
    "    meanROIs[col] = (df_fulldata.loc[df_fulldata[col] == 1])['worldwide_roi'].mean()\n",
    "table1 = pd.DataFrame(pd.Series(meanROIs))\n",
    "table1.columns = ['mean_roi']\n",
    "\n",
    "medianROIs = {}\n",
    "for col in genreCols:\n",
    "    medianROIs[col] = (df_fulldata.loc[df_fulldata[col] == 1])['worldwide_roi'].median()\n",
    "table2 = pd.DataFrame(pd.Series(medianROIs))\n",
    "table2.columns = ['median_roi']\n",
    "\n",
    "stdROIs = {}\n",
    "for col in genreCols:\n",
    "    stdROIs[col] = (df_fulldata.loc[df_fulldata[col] == 1])['worldwide_roi'].std()\n",
    "table3 = pd.DataFrame(pd.Series(stdROIs))\n",
    "pd.DataFrame(table3.reset_index(inplace=True))\n",
    "table3.columns = ['genres','stdev']\n",
    "\n",
    "countROIs = {}\n",
    "for col in genreCols:\n",
    "    countROIs[col] = df_fulldata[col].sum()\n",
    "table4 = pd.DataFrame(pd.Series(countROIs))\n",
    "pd.DataFrame(table4.reset_index(inplace=True))\n",
    "table4.columns = ['genres','count']\n"
   ]
  },
  {
   "cell_type": "code",
   "execution_count": null,
   "metadata": {
    "scrolled": true
   },
   "outputs": [],
   "source": [
    "# Create a merged table\n",
    "table5 = table1.merge(table2, left_index=True, right_index=True)\n",
    "table5.sort_values('median_roi', inplace=True, ascending=False)\n",
    "table5.reset_index(inplace=True)\n",
    "table5.columns = ['genres','mean_roi','median_roi']\n",
    "table5 = table5.merge(table3, on='genres')\n",
    "table5 = table5.merge(table4, on='genres')\n",
    "table5.head()\n"
   ]
  },
  {
   "cell_type": "code",
   "execution_count": null,
   "metadata": {},
   "outputs": [],
   "source": [
    "# Create distplot visualization to display distribution (median) and risk (standard deviation)\n",
    "viz2aa = df_fulldata.loc[df_fulldata['Mystery'] == 1];\n",
    "plt.figure(figsize=(10,1.25));\n",
    "viz2a = sns.distplot(viz2aa['worldwide_roi']);\n",
    "viz2a.set(title='Mystery');\n",
    "viz2a.set(ylim=(0,.003));\n",
    "viz2a.set(xlim=(-500,2000));\n",
    "\n",
    "viz2bb = df_fulldata.loc[df_fulldata['Animation'] == 1];\n",
    "plt.figure(figsize=(10,1.25));\n",
    "viz2b = sns.distplot(viz2bb['worldwide_roi']);\n",
    "viz2b.set(title='Animation');\n",
    "viz2b.set(ylim=(0,.003));\n",
    "viz2b.set(xlim=(-500,2000));\n",
    "\n",
    "viz2cc = df_fulldata.loc[df_fulldata['Sci-Fi'] == 1];\n",
    "plt.figure(figsize=(10,1.25));\n",
    "viz2c = sns.distplot(viz2cc['worldwide_roi']);\n",
    "viz2c.set(title='Sci-Fi');\n",
    "viz2c.set(ylim=(0,.003));\n",
    "viz2c.set(xlim=(-500,2000));"
   ]
  },
  {
   "cell_type": "markdown",
   "metadata": {},
   "source": [
    "### What genres should be avoided due to association with the lowest median ROIs?"
   ]
  },
  {
   "cell_type": "code",
   "execution_count": null,
   "metadata": {},
   "outputs": [],
   "source": [
    "table5.loc[table5['count'] > 100].tail(3)"
   ]
  },
  {
   "cell_type": "code",
   "execution_count": null,
   "metadata": {},
   "outputs": [],
   "source": [
    "# Set up table for visualization\n",
    "piv3 = pd.DataFrame((pd.pivot_table(df_fulldata, index=['roi_category'], values=df_fulldata[[el for el in genreCols]], aggfunc='sum')).stack())\n",
    "piv3.reset_index(inplace=True)\n",
    "piv3.columns = ['roi_category', 'genres', 'count']\n",
    "piv3['roi_category2'] = piv3['roi_category'].apply(lambda x: {'high':'high', 'somewhat high':'other', 'moderate':'other', 'somewhat low':'other', 'low':'other'}[x])\n",
    "piv3['roi_category3'] = piv3['roi_category'].apply(lambda x: {'high':'high', 'somewhat high':np.nan, 'moderate':np.nan, 'somewhat low':np.nan, 'low':'low'}[x])\n",
    "\n",
    "viz3 = piv3.loc[(piv3.genres == 'Biography') \\\n",
    "         | (piv3.genres == 'Drama') \\\n",
    "         | (piv3.genres == 'Crime')]\n",
    "viz3['genreSort'] = viz3['genres'].apply(lambda x: {'Biography':12, 'Drama':14, 'Crime':16}[x])\n",
    "viz3.sort_values(['genreSort'], inplace=True)"
   ]
  },
  {
   "cell_type": "code",
   "execution_count": null,
   "metadata": {},
   "outputs": [],
   "source": [
    "# Visualize low performing genres in bar chart\n",
    "viz3a = sns.catplot(x='genres', y='count', hue='roi_category3', data=viz3, kind='bar', aspect=4);\n",
    "viz3a._legend.set_title('ROI category')\n"
   ]
  },
  {
   "cell_type": "markdown",
   "metadata": {},
   "source": [
    "### Recommendations\n",
    "1.\tClient should target **high-return, low-risk** genres such as **Animation, Sci-Fi and Adventure**.  In the past, the combination of Action/Adventure/Animation has yielded high-return films.\n",
    "2.\tClient should seek concepts/titles than have **significant potential** for serialization within high ROI genres (potentially look to comics or multi-novel series).\n",
    "3.\tClient should **carefully evaluate** projects in the **Mystery and Horror** genres.  Historical data indicates that Horror/Mystery/Thrillers and Drama/Horror/ Mystery represent high risk, high reward opportunities.\n",
    "4.\tClient **should avoid Biography, Drama, and Crime** genres, given their relatively low ROI.\n"
   ]
  },
  {
   "cell_type": "markdown",
   "metadata": {},
   "source": [
    "### Areas for Further Analysis\n",
    " - Within target genres, are there key players (i.e. director, producer, screenwriters) to involve in production?"
   ]
  }
 ],
 "metadata": {
  "kernelspec": {
   "display_name": "Python 3",
   "language": "python",
   "name": "python3"
  },
  "language_info": {
   "codemirror_mode": {
    "name": "ipython",
    "version": 3
   },
   "file_extension": ".py",
   "mimetype": "text/x-python",
   "name": "python",
   "nbconvert_exporter": "python",
   "pygments_lexer": "ipython3",
   "version": "3.7.3"
  }
 },
 "nbformat": 4,
 "nbformat_minor": 2
}
